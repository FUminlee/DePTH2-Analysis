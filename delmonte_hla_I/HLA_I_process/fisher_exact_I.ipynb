{
 "cells": [
  {
   "cell_type": "code",
   "execution_count": 1,
   "id": "6c7301df-22ee-418d-b1fe-059e4767f417",
   "metadata": {},
   "outputs": [],
   "source": [
    "from scipy.stats import fisher_exact"
   ]
  },
  {
   "cell_type": "code",
   "execution_count": 2,
   "id": "ac2baa27-6cc6-482f-a278-a35d72ce4515",
   "metadata": {},
   "outputs": [],
   "source": [
    "import pandas as pd\n",
    "import os"
   ]
  },
  {
   "cell_type": "code",
   "execution_count": null,
   "id": "91114696-0f08-413d-b7b1-8b7fe3b88611",
   "metadata": {},
   "outputs": [],
   "source": [
    "folder_path = '/Users/fuminli/Desktop/TCR project/delmonte/HLA_I_cooccur'\n",
    "\n",
    "csv_files = [f for f in os.listdir(folder_path) if f.endswith('.csv')]\n",
    "\n",
    "hla_table_dict = {}\n",
    "\n",
    "for file in csv_files:\n",
    "    base_name = os.path.splitext(file)[0]\n",
    "    file_path = os.path.join(folder_path, file)\n",
    "    df = pd.read_csv(file_path)\n",
    "    hla_table_dict[base_name] = df\n",
    "    print(f\"Loaded {file} into table_dict with key '{base_name}'\")"
   ]
  },
  {
   "cell_type": "code",
   "execution_count": null,
   "id": "94e351c5-8107-4288-be96-e19e3cad83ef",
   "metadata": {},
   "outputs": [],
   "source": [
    "HLA_I_count = pd.read_csv('/Users/fuminli/Desktop/TCR project/delmonte/HLA_I_count.csv')\n",
    "HLA_I_count = HLA_I_count.iloc[:, 1:4]"
   ]
  },
  {
   "cell_type": "code",
   "execution_count": null,
   "id": "1f2b2cbc-4229-4626-b292-5a0566c46ecf",
   "metadata": {},
   "outputs": [],
   "source": [
    "total_samples = 540  \n",
    "\n",
    "for index, row in HLA_I_count.iterrows():\n",
    "    hla_key = row['hla']\n",
    "    count = row['count']\n",
    "\n",
    "    hla_table = hla_table_dict.get(hla_key)\n",
    "    \n",
    "    p_values = []\n",
    " \n",
    "    for idx, hla_row in hla_table.iterrows():\n",
    "        cooccur = hla_row['cooccur']\n",
    "        tcr_count = hla_row['count']\n",
    "\n",
    "        data = [[cooccur, count - cooccur], [tcr_count - cooccur, total_samples - count - tcr_count + cooccur]]\n",
    "        _, p_value = fisher_exact(data, alternative='greater')\n",
    "        p_values.append(p_value)\n",
    "        \n",
    "    hla_table['fisher_exact_pvalue'] = p_values\n",
    "    hla_table_dict[hla_key] = hla_table"
   ]
  }
 ],
 "metadata": {
  "kernelspec": {
   "display_name": "Python 3 (ipykernel)",
   "language": "python",
   "name": "python3"
  },
  "language_info": {
   "codemirror_mode": {
    "name": "ipython",
    "version": 3
   },
   "file_extension": ".py",
   "mimetype": "text/x-python",
   "name": "python",
   "nbconvert_exporter": "python",
   "pygments_lexer": "ipython3",
   "version": "3.11.5"
  }
 },
 "nbformat": 4,
 "nbformat_minor": 5
}
