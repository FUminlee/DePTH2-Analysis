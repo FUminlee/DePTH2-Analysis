{
 "cells": [
  {
   "cell_type": "code",
   "execution_count": 1,
   "id": "c7e93b35",
   "metadata": {},
   "outputs": [],
   "source": [
    "import pandas as pd"
   ]
  },
  {
   "cell_type": "code",
   "execution_count": 2,
   "id": "c7a39965",
   "metadata": {},
   "outputs": [],
   "source": [
    "file_path = '/Users/fuminli/Downloads/1-s2.0-S0091674923025447-mmc2.xlsx'\n",
    "HLA_info = pd.read_excel(file_path)"
   ]
  },
  {
   "cell_type": "code",
   "execution_count": 3,
   "id": "2294ef6f",
   "metadata": {},
   "outputs": [],
   "source": [
    "new_header = HLA_info.iloc[1]  \n",
    "HLA_info = HLA_info[2:]  \n",
    "HLA_info.columns = new_header  \n",
    "HLA_info.reset_index(drop=True, inplace=True)"
   ]
  },
  {
   "cell_type": "code",
   "execution_count": 4,
   "id": "31867765",
   "metadata": {},
   "outputs": [],
   "source": [
    "columns_to_keep = ['HGRepo ID code', 'sample_name', 'DPA1_1', 'DPA1_2', 'DPB1_1', 'DPB1_2', 'DQA1_1', 'DQA1_2', 'DQB1_1', 'DQB1_2', 'DRB1_1', 'DRB1_2']\n",
    "HLA_info_filtered = HLA_info[columns_to_keep]"
   ]
  },
  {
   "cell_type": "code",
   "execution_count": 6,
   "id": "246d80da",
   "metadata": {},
   "outputs": [],
   "source": [
    "HLA_info_filtered.loc[:, 'DPAB_1'] = 'DPAB*' + HLA_info_filtered.loc[:, 'DPA1_1'].str.split('*').str[1] + '_' + HLA_info_filtered.loc[:, 'DPB1_1'].str.split('*').str[1]\n",
    "HLA_info_filtered.loc[:, 'DPAB_2'] = 'DPAB*' + HLA_info_filtered.loc[:, 'DPA1_1'].str.split('*').str[1] + '_' + HLA_info_filtered.loc[:, 'DPB1_2'].str.split('*').str[1]\n",
    "HLA_info_filtered.loc[:, 'DPAB_3'] = 'DPAB*' + HLA_info_filtered.loc[:, 'DPA1_2'].str.split('*').str[1] + '_' + HLA_info_filtered.loc[:, 'DPB1_1'].str.split('*').str[1]\n",
    "HLA_info_filtered.loc[:, 'DPAB_4'] = 'DPAB*' + HLA_info_filtered.loc[:, 'DPA1_2'].str.split('*').str[1] + '_' + HLA_info_filtered.loc[:, 'DPB1_2'].str.split('*').str[1]\n",
    "\n",
    "HLA_info_filtered.loc[:, 'DQAB_1'] = 'DQAB*' + HLA_info_filtered.loc[:, 'DQA1_1'].str.split('*').str[1] + '_' + HLA_info_filtered.loc[:, 'DQB1_1'].str.split('*').str[1]\n",
    "HLA_info_filtered.loc[:, 'DQAB_2'] = 'DQAB*' + HLA_info_filtered.loc[:, 'DQA1_1'].str.split('*').str[1] + '_' + HLA_info_filtered.loc[:, 'DQB1_2'].str.split('*').str[1]\n",
    "HLA_info_filtered.loc[:, 'DQAB_3'] = 'DQAB*' + HLA_info_filtered.loc[:, 'DQA1_2'].str.split('*').str[1] + '_' + HLA_info_filtered.loc[:, 'DQB1_1'].str.split('*').str[1]\n",
    "HLA_info_filtered.loc[:, 'DQAB_4'] = 'DQAB*' + HLA_info_filtered.loc[:, 'DQA1_2'].str.split('*').str[1] + '_' + HLA_info_filtered.loc[:, 'DQB1_2'].str.split('*').str[1]"
   ]
  },
  {
   "cell_type": "code",
   "execution_count": 7,
   "id": "e6e66c69",
   "metadata": {},
   "outputs": [],
   "source": [
    "columns_to_drop = ['DPA1_1', 'DPA1_2', 'DPB1_1', 'DPB1_2', 'DQA1_1', 'DQA1_2', 'DQB1_1', 'DQB1_2']\n",
    "HLA_info_filtered = HLA_info_filtered.drop(columns=columns_to_drop)"
   ]
  },
  {
   "cell_type": "code",
   "execution_count": 8,
   "id": "279ecd14",
   "metadata": {},
   "outputs": [],
   "source": [
    "columns_to_drop = ['sample_name']\n",
    "HLA_info_filtered = HLA_info_filtered.drop(columns=columns_to_drop)"
   ]
  },
  {
   "cell_type": "code",
   "execution_count": 9,
   "id": "55f3d6ac",
   "metadata": {},
   "outputs": [],
   "source": [
    "HLA_info_filtered = HLA_info_filtered.drop_duplicates()"
   ]
  },
  {
   "cell_type": "code",
   "execution_count": 12,
   "id": "68a9e840",
   "metadata": {},
   "outputs": [],
   "source": [
    "file_path = '/Users/fuminli/Desktop/TCR project/delmonte/HLA_II_info.csv'\n",
    "\n",
    "HLA_info_filtered.to_csv(file_path, index=False)"
   ]
  }
 ],
 "metadata": {
  "kernelspec": {
   "display_name": "Python 3 (ipykernel)",
   "language": "python",
   "name": "python3"
  },
  "language_info": {
   "codemirror_mode": {
    "name": "ipython",
    "version": 3
   },
   "file_extension": ".py",
   "mimetype": "text/x-python",
   "name": "python",
   "nbconvert_exporter": "python",
   "pygments_lexer": "ipython3",
   "version": "3.11.5"
  }
 },
 "nbformat": 4,
 "nbformat_minor": 5
}
